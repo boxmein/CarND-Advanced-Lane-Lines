{
 "cells": [
  {
   "cell_type": "code",
   "execution_count": 1,
   "metadata": {
    "collapsed": false
   },
   "outputs": [
    {
     "ename": "ModuleNotFoundError",
     "evalue": "No module named 'cv2'",
     "output_type": "error",
     "traceback": [
      "\u001b[0;31m---------------------------------------------------------------------------\u001b[0m",
      "\u001b[0;31mModuleNotFoundError\u001b[0m                       Traceback (most recent call last)",
      "\u001b[0;32m<ipython-input-1-7a05b4c541af>\u001b[0m in \u001b[0;36m<module>\u001b[0;34m()\u001b[0m\n\u001b[1;32m      1\u001b[0m \u001b[0;32mimport\u001b[0m \u001b[0mnumpy\u001b[0m \u001b[0;32mas\u001b[0m \u001b[0mnp\u001b[0m\u001b[0;34m\u001b[0m\u001b[0m\n\u001b[0;32m----> 2\u001b[0;31m \u001b[0;32mimport\u001b[0m \u001b[0mcv2\u001b[0m\u001b[0;34m\u001b[0m\u001b[0m\n\u001b[0m\u001b[1;32m      3\u001b[0m \u001b[0;32mimport\u001b[0m \u001b[0mmatplotlib\u001b[0m\u001b[0;34m.\u001b[0m\u001b[0mpyplot\u001b[0m \u001b[0;32mas\u001b[0m \u001b[0mplt\u001b[0m\u001b[0;34m\u001b[0m\u001b[0m\n\u001b[1;32m      4\u001b[0m \u001b[0;32mimport\u001b[0m \u001b[0mmatplotlib\u001b[0m\u001b[0;34m.\u001b[0m\u001b[0mimage\u001b[0m \u001b[0;32mas\u001b[0m \u001b[0mmpimg\u001b[0m\u001b[0;34m\u001b[0m\u001b[0m\n\u001b[1;32m      5\u001b[0m \u001b[0;32mimport\u001b[0m \u001b[0mpickle\u001b[0m\u001b[0;34m\u001b[0m\u001b[0m\n",
      "\u001b[0;31mModuleNotFoundError\u001b[0m: No module named 'cv2'"
     ]
    }
   ],
   "source": [
    "import numpy as np\n",
    "import cv2\n",
    "import matplotlib.pyplot as plt\n",
    "import matplotlib.image as mpimg\n",
    "import pickle\n",
    "\n",
    "%matplotlib inline"
   ]
  },
  {
   "cell_type": "code",
   "execution_count": null,
   "metadata": {
    "collapsed": true
   },
   "outputs": [],
   "source": [
    "# Define a function that applies Sobel x and y, \n",
    "# then computes the direction of the gradient\n",
    "# and applies a threshold.\n",
    "def dir_threshold(img, sobel_kernel=3, thresh=(0, np.pi/2)):\n",
    "    \n",
    "    # Apply the following steps to img\n",
    "    # 2) Take the gradient in x and y separately\n",
    "    sb_x = cv2.Sobel(img, cv2.CV_64F, 1, 0, ksize=sobel_kernel)\n",
    "    sb_y = cv2.Sobel(img, cv2.CV_64F, 0, 1, ksize=sobel_kernel)\n",
    "    # 3) Take the absolute value of the x and y gradients\n",
    "    sb_x = np.absolute(sb_x)\n",
    "    sb_y = np.absolute(sb_y)\n",
    "    # 4) Use np.arctan2(abs_sobely, abs_sobelx) to calculate the direction of the gradient \n",
    "    grads = np.arctan2(sb_y, sb_x)\n",
    "    # 5) Create a binary mask where direction thresholds are met\n",
    "    mask = np.zeros_like(grads)\n",
    "    mask[ (grads >= thresh[0]) & (grads < thresh[1])] = 1\n",
    "    # 6) Return this mask as your binary_output image\n",
    "    return mask\n",
    "\n",
    "\n",
    "# Define a function that applies Sobel x and y, \n",
    "# then computes the magnitude of the gradient\n",
    "# and applies a threshold\n",
    "def mag_thresh(img, sobel_kernel=3, mag_thresh=(0, 255)):\n",
    "    \n",
    "    # Apply the following steps to img\n",
    "    # 2) Take the gradient in x and y separately\n",
    "    sb_x = cv2.Sobel(img, cv2.CV_64F, 1, 0, ksize=sobel_kernel)\n",
    "    sb_y = cv2.Sobel(img, cv2.CV_64F, 0, 1, ksize=sobel_kernel)\n",
    "    # 3) Calculate the magnitude \n",
    "    sb_m = np.sqrt( sb_x ** 2 + sb_y ** 2)\n",
    "    # 4) Scale to 8-bit (0 - 255) and convert to type = np.uint8\n",
    "    sb_m = np.uint8( sb_m / np.max(sb_m) * 255 )\n",
    "    # 5) Create a binary mask where mag thresholds are met\n",
    "    mask = np.zeros_like(sb_m)\n",
    "    \n",
    "    mask[ (sb_m >= mag_thresh[0]) & (sb_m < mag_thresh[1]) ] = 1\n",
    "    # 6) Return this mask as your binary_output image\n",
    "    return mask\n",
    "    \n",
    "def abs_sobel_thresh(img, orient='x', sobel_kernel=3, thresh=(0, 255)):\n",
    "    \n",
    "    # Apply the following steps to img\n",
    "    # 2) Take the derivative in x or y given orient = 'x' or 'y'\n",
    "    if orient == 'x': \n",
    "        sobeled = cv2.Sobel(img, cv2.CV_64F, 1, 0, ksize=sobel_kernel)\n",
    "    else:\n",
    "        sobeled = cv2.Sobel(img, cv2.CV_64F, 0, 1, ksize=sobel_kernel)\n",
    "    \n",
    "    # 3) Take the absolute value of the derivative or gradient\n",
    "    sobeled = np.absolute(sobeled)\n",
    "    \n",
    "    # 4) Scale to 8-bit (0 - 255) then convert to type = np.uint8\n",
    "    sobeled = np.uint8(sobeled / np.max(sobeled) * 255.0)\n",
    "    \n",
    "    # 5) Create a mask of 1's where the scaled gradient magnitude \n",
    "            # is > thresh_min and < thresh_max\n",
    "    mask = np.zeros_like(sobeled)\n",
    "    mask[(sobeled > thresh[0]) &\n",
    "         (sobeled < thresh[1])] = 1\n",
    "    \n",
    "    return mask"
   ]
  },
  {
   "cell_type": "code",
   "execution_count": null,
   "metadata": {
    "collapsed": false,
    "scrolled": true
   },
   "outputs": [],
   "source": [
    "# Read in an image\n",
    "image = mpimg.imread('signs_vehicles_xygrad.png')\n",
    "\n",
    "gray  = cv2.cvtColor(image, cv2.COLOR_RGB2GRAY)\n",
    "hls   = cv2.cvtColor(image, cv2.COLOR_RGB2HLS)\n",
    "\n",
    "img_h   = hls[:, :, 0]\n",
    "img_l   = hls[:, :, 1]\n",
    "img_s   = hls[:, :, 2] * 255.0\n",
    "\n",
    "t_s = np.zeros_like(img_s)\n",
    "t_s[(img_s > 90) & (img_s <= 255)] = 1\n",
    "\n",
    "t_h = np.zeros_like(img_h)\n",
    "t_h[(img_h > 15) & (img_h < 100)] = 1\n",
    "\n",
    "# img_r = image[:, :, 0]\n",
    "# img_g = image[:, :, 1]\n",
    "# img_b = image[:, :, 2]\n",
    "\n",
    "ksize = 5\n",
    "\n",
    "# threshold function\n",
    "def combined_threshold(image):\n",
    "    \n",
    "    gradx = abs_sobel_thresh(image, orient='x', sobel_kernel=ksize, thresh=(10, 255))\n",
    "    grady = abs_sobel_thresh(image, orient='y', sobel_kernel=ksize, thresh=(35, 100))\n",
    "    mag_binary = mag_thresh(image, sobel_kernel=13, mag_thresh=(20, 255))\n",
    "    dir_binary = dir_threshold(image, sobel_kernel=7, thresh=(0.7, 1.3))\n",
    "\n",
    "    combined = np.zeros_like(dir_binary)\n",
    "    combined[\n",
    "        (gradx == 1) & \n",
    "        (grady == 1) & \n",
    "        (mag_binary == 1) & \n",
    "        (dir_binary == 1) ] = 1\n",
    "    return combined\n",
    "\n",
    "\n",
    "t_gr = combined_threshold(gray)\n",
    "# t_r  = combined_threshold(img_r)\n",
    "# t_g  = combined_threshold(img_g)\n",
    "# t_b  = combined_threshold(img_b)\n",
    "\n",
    "# Plot the result\n",
    "f, (ax1, ax2, axr, axg) = plt.subplots(4, 1, figsize=(30, 90))\n",
    "f.tight_layout()\n",
    "\n",
    "# 1. Original image\n",
    "ax1.imshow(image)\n",
    "ax1.set_title('Original Image', fontsize=21)\n",
    "\n",
    "ax2.imshow(img_s, cmap='gray')\n",
    "ax2.set_title('Saturation Channel', fontsize=21)\n",
    "# 2. Thresholds on grayscale\n",
    "# ax2.imshow(t_gr, cmap='gray')\n",
    "# ax2.set_title('Thresholded Gray.', fontsize=21)\n",
    "\n",
    "# 3. Thresholds on red\n",
    "# axr.imshow(t_r, cmap='gray')\n",
    "# axr.set_title('Thresholded Red.', fontsize=21)\n",
    "\n",
    "# 4. Thresholds on green\n",
    "# axg.imshow(t_g, cmap='gray')\n",
    "# axg.set_title('Thresholded Green.', fontsize=21)\n",
    "\n",
    "# 5. Thresholds on blu\n",
    "# axb.imshow(t_b, cmap='gray')\n",
    "# axb.set_title('Thresholded Blue.', fontsize=21)\n",
    "\n",
    "# 6. Color threshold on S\n",
    "axr.imshow(t_s, cmap='gray')\n",
    "axr.set_title(\"Color Threshold on Saturation\", fontsize=21)\n",
    "\n",
    "axg.imshow(t_h, cmap='gray')\n",
    "axg.set_title(\"Color Threshold on Hue\", fontsize=21)\n",
    "\n",
    "plt.subplots_adjust(left=0., right=1, top=0.9, bottom=0.)\n"
   ]
  },
  {
   "cell_type": "code",
   "execution_count": null,
   "metadata": {
    "collapsed": true
   },
   "outputs": [],
   "source": []
  },
  {
   "cell_type": "code",
   "execution_count": null,
   "metadata": {
    "collapsed": true
   },
   "outputs": [],
   "source": []
  },
  {
   "cell_type": "code",
   "execution_count": null,
   "metadata": {
    "collapsed": true
   },
   "outputs": [],
   "source": []
  },
  {
   "cell_type": "code",
   "execution_count": null,
   "metadata": {
    "collapsed": true
   },
   "outputs": [],
   "source": []
  },
  {
   "cell_type": "code",
   "execution_count": null,
   "metadata": {
    "collapsed": true
   },
   "outputs": [],
   "source": []
  }
 ],
 "metadata": {
  "kernelspec": {
   "display_name": "Python 3",
   "language": "python",
   "name": "python3"
  },
  "language_info": {
   "codemirror_mode": {
    "name": "ipython",
    "version": 3
   },
   "file_extension": ".py",
   "mimetype": "text/x-python",
   "name": "python",
   "nbconvert_exporter": "python",
   "pygments_lexer": "ipython3",
   "version": "3.6.0"
  }
 },
 "nbformat": 4,
 "nbformat_minor": 2
}
